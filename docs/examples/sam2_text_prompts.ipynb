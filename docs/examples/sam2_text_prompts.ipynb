{
  "cells": [
    {
      "cell_type": "markdown",
      "metadata": {
        "id": "M6bQwv3gBtH0"
      },
      "source": [
        "# Segmenting remote sensing imagery with text prompts and the Segment Anything Model 2 (SAM 2)\n",
        "\n",
        "[![image](https://studiolab.sagemaker.aws/studiolab.svg)](https://studiolab.sagemaker.aws/import/github/opengeos/segment-geospatial/blob/main/docs/examples/sam2_text_prompts.ipynb)\n",
        "[![image](https://colab.research.google.com/assets/colab-badge.svg)](https://colab.research.google.com/github/opengeos/segment-geospatial/blob/main/docs/examples/sam2_text_prompts.ipynb)\n",
        "\n",
        "This notebook shows how to generate object masks from text prompts with the Segment Anything Model (SAM).\n",
        "\n",
        "Make sure you use GPU runtime for this notebook. For Google Colab, go to `Runtime` -> `Change runtime type` and select `GPU` as the hardware accelerator."
      ]
    },
    {
      "cell_type": "markdown",
      "metadata": {
        "id": "eZUVyi8RBtH2"
      },
      "source": [
        "## Install dependencies\n",
        "\n",
        "Uncomment and run the following cell to install the required dependencies."
      ]
    },
    {
      "cell_type": "code",
      "execution_count": null,
      "metadata": {
        "id": "nvgEzzSuBtH2"
      },
      "outputs": [],
      "source": [
        "# %pip install segment-geospatial groundingdino-py leafmap localtileserver"
      ]
    },
    {
      "cell_type": "code",
      "execution_count": null,
      "metadata": {
        "id": "Ur4ukWK7BtH3"
      },
      "outputs": [],
      "source": [
        "import leafmap\n",
        "from samgeo.text_sam import LangSAM"
      ]
    },
    {
      "cell_type": "markdown",
      "metadata": {
        "id": "kp6lB-O9BtH3"
      },
      "source": [
        "## Create an interactive map"
      ]
    },
    {
      "cell_type": "code",
      "execution_count": null,
      "metadata": {
        "id": "naZgm9VBBtH3"
      },
      "outputs": [],
      "source": [
        "m = leafmap.Map(center=[-22.17615, -51.253043], zoom=18, height=\"800px\")\n",
        "m.add_basemap(\"SATELLITE\")\n",
        "m"
      ]
    },
    {
      "cell_type": "markdown",
      "metadata": {
        "id": "WSKM4C0fBtH3"
      },
      "source": [
        "## Download a sample image\n",
        "\n",
        "Pan and zoom the map to select the area of interest. Use the draw tools to draw a polygon or rectangle on the map"
      ]
    },
    {
      "cell_type": "code",
      "execution_count": null,
      "metadata": {
        "id": "ZLVSOLJ9BtH4"
      },
      "outputs": [],
      "source": [
        "bbox = m.user_roi_bounds()\n",
        "if bbox is None:\n",
        "    bbox = [-51.2565, -22.1777, -51.2512, -22.175]"
      ]
    },
    {
      "cell_type": "code",
      "execution_count": null,
      "metadata": {
        "id": "JNlKhou0BtH4"
      },
      "outputs": [],
      "source": [
        "image = \"Image.tif\"\n",
        "leafmap.map_tiles_to_geotiff(\n",
        "    output=image, bbox=bbox, zoom=19, source=\"Satellite\", overwrite=True\n",
        ")"
      ]
    },
    {
      "cell_type": "markdown",
      "metadata": {
        "id": "cXgKKTSZBtH4"
      },
      "source": [
        "You can also use your own image. Uncomment and run the following cell to use your own image."
      ]
    },
    {
      "cell_type": "code",
      "execution_count": null,
      "metadata": {
        "id": "hMZFHTQKBtH4"
      },
      "outputs": [],
      "source": [
        "# image = '/path/to/your/own/image.tif'"
      ]
    },
    {
      "cell_type": "markdown",
      "metadata": {
        "id": "TlQqH3N6BtH4"
      },
      "source": [
        "Display the downloaded image on the map."
      ]
    },
    {
      "cell_type": "code",
      "execution_count": null,
      "metadata": {
        "id": "mGwEnihiBtH4"
      },
      "outputs": [],
      "source": [
        "m.layers[-1].visible = False\n",
        "m.add_raster(image, layer_name=\"Image\")\n",
        "m"
      ]
    },
    {
      "cell_type": "markdown",
      "metadata": {
        "id": "GW9iDHnjBtH4"
      },
      "source": [
        "## Initialize LangSAM class\n",
        "\n",
        "The initialization of the LangSAM class might take a few minutes. The initialization downloads the model weights and sets up the model for inference."
      ]
    },
    {
      "cell_type": "code",
      "execution_count": null,
      "metadata": {
        "id": "nDGK4iV3BtH4"
      },
      "outputs": [],
      "source": [
        "sam = LangSAM(model_type=\"sam2-hiera-large\")"
      ]
    },
    {
      "cell_type": "markdown",
      "metadata": {
        "id": "ooZljfreBtH5"
      },
      "source": [
        "## Specify text prompts"
      ]
    },
    {
      "cell_type": "code",
      "execution_count": null,
      "metadata": {
        "id": "v2tDIC90BtH5"
      },
      "outputs": [],
      "source": [
        "text_prompt = \"tree\""
      ]
    },
    {
      "cell_type": "markdown",
      "metadata": {
        "id": "WU2tdWUNBtH5"
      },
      "source": [
        "## Segment the image\n",
        "\n",
        "Part of the model prediction includes setting appropriate thresholds for object detection and text association with the detected objects. These threshold values range from 0 to 1 and are set while calling the predict method of the LangSAM class.\n",
        "\n",
        "`box_threshold`: This value is used for object detection in the image. A higher value makes the model more selective, identifying only the most confident object instances, leading to fewer overall detections. A lower value, conversely, makes the model more tolerant, leading to increased detections, including potentially less confident ones.\n",
        "\n",
        "`text_threshold`: This value is used to associate the detected objects with the provided text prompt. A higher value requires a stronger association between the object and the text prompt, leading to more precise but potentially fewer associations. A lower value allows for looser associations, which could increase the number of associations but also introduce less precise matches.\n",
        "\n",
        "Remember to test different threshold values on your specific data. The optimal threshold can vary depending on the quality and nature of your images, as well as the specificity of your text prompts. Make sure to choose a balance that suits your requirements, whether that's precision or recall."
      ]
    },
    {
      "cell_type": "code",
      "execution_count": null,
      "metadata": {
        "id": "Xh6uUqPQBtH5"
      },
      "outputs": [],
      "source": [
        "sam.predict(image, text_prompt, box_threshold=0.24, text_threshold=0.24)"
      ]
    },
    {
      "cell_type": "markdown",
      "metadata": {
        "id": "DO9r71VqBtH5"
      },
      "source": [
        "## Visualize the results\n",
        "\n",
        "Show the result with bounding boxes on the map."
      ]
    },
    {
      "cell_type": "code",
      "execution_count": null,
      "metadata": {
        "id": "g5AU57RBBtH5"
      },
      "outputs": [],
      "source": [
        "sam.show_anns(\n",
        "    cmap=\"Greens\",\n",
        "    box_color=\"red\",\n",
        "    title=\"Automatic Segmentation of Trees\",\n",
        "    blend=True,\n",
        ")"
      ]
    },
    {
      "cell_type": "markdown",
      "metadata": {
        "id": "GwQDVmylBtH5"
      },
      "source": [
        "![image](https://github.com/user-attachments/assets/fd1a6a46-7fc6-45f5-8408-d648f2b5bbfe)"
      ]
    },
    {
      "cell_type": "markdown",
      "metadata": {
        "id": "LTLK00GfBtH5"
      },
      "source": [
        "Show the result without bounding boxes on the map."
      ]
    },
    {
      "cell_type": "code",
      "execution_count": null,
      "metadata": {
        "id": "ZL3l5ygOBtH5"
      },
      "outputs": [],
      "source": [
        "sam.show_anns(\n",
        "    cmap=\"Greens\",\n",
        "    add_boxes=False,\n",
        "    alpha=0.5,\n",
        "    title=\"Automatic Segmentation of Trees\",\n",
        ")"
      ]
    },
    {
      "cell_type": "markdown",
      "metadata": {
        "id": "HYoWpjPMBtH5"
      },
      "source": [
        "![image](https://github.com/user-attachments/assets/11843d0f-9caa-4e71-905f-17d363640cef)"
      ]
    },
    {
      "cell_type": "markdown",
      "metadata": {
        "id": "dqGGr0o4BtH5"
      },
      "source": [
        "Show the result as a grayscale image."
      ]
    },
    {
      "cell_type": "code",
      "execution_count": null,
      "metadata": {
        "id": "Z3RcAMyhBtH5"
      },
      "outputs": [],
      "source": [
        "sam.show_anns(\n",
        "    cmap=\"Greys_r\",\n",
        "    add_boxes=False,\n",
        "    alpha=1,\n",
        "    title=\"Automatic Segmentation of Trees\",\n",
        "    blend=False,\n",
        "    output=\"trees.tif\",\n",
        ")"
      ]
    },
    {
      "cell_type": "markdown",
      "metadata": {
        "id": "uUI4tr_1BtH5"
      },
      "source": [
        "![image](https://github.com/user-attachments/assets/2fb80bbf-4d07-401e-8a57-ccde74ae3115)"
      ]
    },
    {
      "cell_type": "markdown",
      "metadata": {
        "id": "5GzHjVh1BtH5"
      },
      "source": [
        "Convert the result to a vector format.  "
      ]
    },
    {
      "cell_type": "code",
      "execution_count": null,
      "metadata": {
        "id": "Efxy8dzSBtH5"
      },
      "outputs": [],
      "source": [
        "da, gdf = sam.region_groups(\n",
        "    image=\"trees.tif\",\n",
        "    min_size=100,\n",
        "    out_csv=\"objects.csv\",\n",
        "    out_image=\"objects.tif\",\n",
        "    out_vector=\"objects.gpkg\",\n",
        ")"
      ]
    },
    {
      "cell_type": "markdown",
      "metadata": {
        "id": "shuLUxoWBtH5"
      },
      "source": [
        "Show the results on the interactive map."
      ]
    },
    {
      "cell_type": "code",
      "execution_count": null,
      "metadata": {
        "id": "RPmHdfEpBtH5"
      },
      "outputs": [],
      "source": [
        "m.add_raster(\"objects.tif\", layer_name=\"Trees\", palette=\"Greens\", opacity=0.5, nodata=0)\n",
        "style = {\n",
        "    \"color\": \"#3388ff\",\n",
        "    \"weight\": 2,\n",
        "    \"fillColor\": \"#7c4185\",\n",
        "    \"fillOpacity\": 0.5,\n",
        "}\n",
        "m.add_vector(\"objects.gpkg\", layer_name=\"Vector\", style=style)\n",
        "m"
      ]
    },
    {
      "cell_type": "markdown",
      "metadata": {
        "id": "R-Tn0daKBtH5"
      },
      "source": [
        "## Interactive segmentation"
      ]
    },
    {
      "cell_type": "code",
      "execution_count": null,
      "metadata": {
        "id": "u3oIB70rBtH5"
      },
      "outputs": [],
      "source": [
        "sam.show_map()"
      ]
    },
    {
      "cell_type": "markdown",
      "metadata": {
        "id": "Ww_83p-OBtH5"
      },
      "source": [
        "![](https://i.imgur.com/wydt5Xt.gif)"
      ]
    }
  ],
  "metadata": {
    "kernelspec": {
      "display_name": "Python 3 (ipykernel)",
      "language": "python",
      "name": "python3"
    },
    "language_info": {
      "codemirror_mode": {
        "name": "ipython",
        "version": 3
      },
      "file_extension": ".py",
      "mimetype": "text/x-python",
      "name": "python",
      "nbconvert_exporter": "python",
      "pygments_lexer": "ipython3",
      "version": "3.11.8"
    },
    "colab": {
      "provenance": []
    }
  },
  "nbformat": 4,
  "nbformat_minor": 0
}